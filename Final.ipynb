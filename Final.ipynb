{
 "cells": [
  {
   "cell_type": "markdown",
   "id": "8351687b-d6f8-4b71-833e-b1420afa8caf",
   "metadata": {},
   "source": [
    "## Targeted Microbiome Restoration through F. Prausnitzii Gene Knockout Therapy"
   ]
  },
  {
   "cell_type": "markdown",
   "id": "6a02ce5f-871b-4123-a534-04052168ec77",
   "metadata": {},
   "source": [
    "### Hannah Carroll\n",
    "\n",
    "### BME 3990C Final Project"
   ]
  },
  {
   "cell_type": "markdown",
   "id": "8cdfa82a-cacc-42aa-a3b5-ec04e501f82e",
   "metadata": {},
   "source": [
    "The code below will design a microbiome based therapeutic with the goal to restore a healthy gut in people who suffer from dysbiosis. There is a specific focus on this because the gut-brain axis is a relatively new discovery and is thought to play a key role in autoimmune disorders such as MS. See readme file for in depth analysis of code and results.\n",
    "\n",
    "The design will use COBRApy (Metabolic Modeling) to target a bacteria: Faecalibacterium prausnitzii (producer of butyrate). It will determine the minimal media needed for F. prausnitzii to grow in. Some components will be added to the minimal media to create a more realistic environment. It will then individually knock out each gene and run FBA to see which has the highest production of butyrate exchange flux. Butyrate is an important SCFA that nourishes colonocytes and has anti-inflammatory properties. \n",
    "\n",
    "Parts of code adapted from notebooks created by D. Bernstein for his Microbiome Engineering course at UVM. "
   ]
  },
  {
   "cell_type": "code",
   "execution_count": 77,
   "id": "4afb1b34-57ea-4440-9885-4bb19949f5c5",
   "metadata": {},
   "outputs": [
    {
     "name": "stdin",
     "output_type": "stream",
     "text": [
      "Once deleted, variables cannot be recovered. Proceed (y/[n])?  y\n"
     ]
    }
   ],
   "source": [
    "%reset"
   ]
  },
  {
   "cell_type": "code",
   "execution_count": 3,
   "id": "8252f701-511d-4e3c-8292-f72d146a42c8",
   "metadata": {},
   "outputs": [],
   "source": [
    "#Imports\n",
    "import numpy as np\n",
    "import cobra as cb\n",
    "import pandas as pd\n",
    "import matplotlib.pyplot as plt"
   ]
  },
  {
   "cell_type": "markdown",
   "id": "ed0cff27-4831-4afc-845a-2d59b7672b62",
   "metadata": {},
   "source": [
    "## Load *F. prausnitzii* Model\n",
    "\n",
    "We will start by using a genome-scale metabolic model for *F. prausnitzii*. This model comes from the AGORA2 database which can be accessed through the vmh.life website. [Direct link to AGORA2 Models](https://www.vmh.life/files/reconstructions/AGORA2/version2.01/mat_files/individual_reconstructions/).\n",
    "\n",
    "Use the link above to download the model for Faecalibacterium_prausnitzii_A2_165.mat. This is a matlab .mat file, it can be loaded into a python as a cobrapy model using the [load_matlab_model](https://cobrapy.readthedocs.io/en/latest/io.html#MATLAB) command."
   ]
  },
  {
   "cell_type": "code",
   "execution_count": 19,
   "id": "9e3cea16-8049-4ae6-bcc3-84872ec9eb90",
   "metadata": {},
   "outputs": [
    {
     "name": "stderr",
     "output_type": "stream",
     "text": [
      "No defined compartments in model model. Compartments will be deduced heuristically using regular expressions.\n",
      "Using regular expression found the following compartments:c, e\n"
     ]
    }
   ],
   "source": [
    "FP_model = cb.io.load_matlab_model('Faecalibacterium_prausnitzii_A2_165.mat')"
   ]
  },
  {
   "cell_type": "markdown",
   "id": "cee51869-9a75-4bbe-942f-f42d6e9bdb43",
   "metadata": {},
   "source": [
    "## Run Flux Balance Analysis for *F. prausnitzii* in Glucose Minimal Medium\n",
    "Below, a minimal medium is defined to see what F. prausnitzii needs to grow on. FBA is run to confirm if F. prausnitzii is able to grow in this environment. \n",
    "\n",
    "Glucose and sulfate is then added to the environment to provide a more realistic environment. The parameter for glucose is set to -10 to limit the model. All other parameters are maxed at -100."
   ]
  },
  {
   "cell_type": "code",
   "execution_count": 20,
   "id": "18dc2c1a-0f26-47db-b180-14dd2e9ada47",
   "metadata": {},
   "outputs": [
    {
     "name": "stdout",
     "output_type": "stream",
     "text": [
      "Minimal Medium for F. prausnitzii:\n",
      "EX_alaasp(e)         2.947527\n",
      "EX_ca2(e)            0.000794\n",
      "EX_cl(e)             0.000794\n",
      "EX_cobalt2(e)        0.000794\n",
      "EX_cspg_a_degr(e)    9.253552\n",
      "EX_cu2(e)            0.000794\n",
      "EX_fe2(e)            0.000794\n",
      "EX_fe3(e)            0.000794\n",
      "EX_fol(e)            0.002382\n",
      "EX_glymet(e)         0.031430\n",
      "EX_hxan(e)           0.015131\n",
      "EX_k(e)              0.000794\n",
      "EX_lys_L(e)          0.032370\n",
      "EX_mg2(e)            0.000794\n",
      "EX_mn2(e)            0.000794\n",
      "EX_nac(e)            0.001588\n",
      "EX_pi(e)             0.124214\n",
      "EX_pnto_R(e)         0.001588\n",
      "EX_pydx(e)           0.000794\n",
      "EX_ribflv(e)         0.001588\n",
      "EX_thm(e)            0.000794\n",
      "EX_trp_L(e)          0.005450\n",
      "EX_zn2(e)            0.000794\n",
      "dtype: float64\n"
     ]
    }
   ],
   "source": [
    "FP__minimal_medium = cb.medium.minimal_medium(FP_model, minimize_components=1)\n",
    "print(\"Minimal Medium for F. prausnitzii:\")\n",
    "print(FP__minimal_medium)"
   ]
  },
  {
   "cell_type": "code",
   "execution_count": 5,
   "id": "8d1193e3-1068-4a7a-8622-39b6846bc0a8",
   "metadata": {},
   "outputs": [
    {
     "name": "stdout",
     "output_type": "stream",
     "text": [
      "Objective\n",
      "=========\n",
      "1.0 biomass223 = 0.5674122525317109\n",
      "\n",
      "Uptake\n",
      "------\n",
      "     Metabolite       Reaction      Flux  C-Number C-Flux\n",
      "      alaasp[e]   EX_alaasp(e)     16.29         7 27.04%\n",
      "         ca2[e]      EX_ca2(e)  0.004505         0  0.00%\n",
      "          cl[e]       EX_cl(e)  0.004505         0  0.00%\n",
      "     cobalt2[e]  EX_cobalt2(e)  0.004505         0  0.00%\n",
      "         cu2[e]      EX_cu2(e)  0.004505         0  0.00%\n",
      "         fe2[e]      EX_fe2(e)  0.004505         0  0.00%\n",
      "         fe3[e]      EX_fe3(e)  0.004505         0  0.00%\n",
      "         fol[e]      EX_fol(e)   0.01352        19  0.06%\n",
      "       glc_D[e]    EX_glc_D(e)        10         6 14.22%\n",
      "      glymet[e]   EX_glymet(e)    0.2256         7  0.37%\n",
      "        hxan[e]     EX_hxan(e)   0.08586         5  0.10%\n",
      "           k[e]        EX_k(e)  0.004505         0  0.00%\n",
      "       lys_L[e]    EX_lys_L(e)    0.1837         6  0.26%\n",
      "         mg2[e]      EX_mg2(e)  0.004505         0  0.00%\n",
      "         mn2[e]      EX_mn2(e)  0.004505         0  0.00%\n",
      "         nac[e]      EX_nac(e)   0.00901         6  0.01%\n",
      "          pi[e]       EX_pi(e)    0.7048         0  0.00%\n",
      "      pnto_R[e]   EX_pnto_R(e)   0.00901         9  0.02%\n",
      "        pydx[e]     EX_pydx(e)  0.004505         8  0.01%\n",
      "      ribflv[e]   EX_ribflv(e)     14.28        17 57.55%\n",
      "         so4[e]      EX_so4(e)  0.004505         0  0.00%\n",
      "         thm[e]      EX_thm(e)  0.004505        12  0.01%\n",
      "       trp_L[e]    EX_trp_L(e)   0.03092        11  0.08%\n",
      "         zn2[e]      EX_zn2(e)  0.004505         0  0.00%\n",
      "      dnarep[c]   dreplication    0.5674         0  0.00%\n",
      "proteinsynth[c]  pbiosynthesis    0.5674         0  0.00%\n",
      "    rnatrans[c] rtranscription    0.5674         0  0.00%\n",
      "       PGPm1[c]  sink_PGPm1[c] 1.135E-07         0  0.00%\n",
      "       gthrd[c]  sink_gthrd(c)  0.004505        10  0.01%\n",
      "        mqn8[c]   sink_mqn8(c)   0.00901        51  0.11%\n",
      "       pheme[c]  sink_pheme(c)  0.004505        34  0.04%\n",
      "          q8[c]     sink_q8(c)  0.004505        49  0.05%\n",
      "       sheme[c]  sink_sheme(c)  0.004505        42  0.04%\n",
      "\n",
      "Secretion\n",
      "---------\n",
      "Metabolite      Reaction      Flux  C-Number C-Flux\n",
      "   5mtr[c]       DM_5MTR -0.004505         6  0.01%\n",
      " hcys_L[c]  DM_hcys_L[c]   -0.1108         4  0.11%\n",
      "     ac[e]      EX_ac(e)    -28.34         2 14.15%\n",
      "  ala_L[e]   EX_ala_L(e)    -16.02         3 11.99%\n",
      "  arg_L[e]   EX_arg_L(e)   -0.1673         6  0.25%\n",
      "biomass[c] EX_biomass(e)   -0.5674         0  0.00%\n",
      "    for[e]     EX_for(e)    -45.68         1 11.40%\n",
      "   glyc[e]    EX_glyc(e)  -0.01462         3  0.01%\n",
      "  his_L[e]   EX_his_L(e)  -0.09449         6  0.14%\n",
      "    nh4[e]     EX_nh4(e)    -9.931         0  0.00%\n",
      "rbflvrd[e] EX_rbflvrd(e)    -14.27        17 60.56%\n",
      "    ura[e]     EX_ura(e)    -1.379         4  1.38%\n",
      "\n"
     ]
    }
   ],
   "source": [
    "#FP_min_med = ['EX_alaasp(e)','EX_ca2(e)','EX_cobalt2(e)','EX_cl(e)','EX_cspg_a_degr(e)','EX_cu2(e)','EX_fe2(e)',\n",
    "#                 'EX_fe3(e)','EX_fol(e)','EX_glymet(e)','EX_hxan(e)','EX_k(e)','EX_lys_L(e)','EX_mg2(e)',\n",
    "#                 'EX_mn2(e)', 'EX_nac(e)', 'EX_pi(e)', 'EX_pnto_R(e)', 'EX_pydx(e)', 'EX_ribflv(e)', 'EX_thm(e)', \n",
    "#                 'EX_trp_L(e)', 'EX_zn2(e)',]\n",
    "\n",
    "# Define minimal medium with more realistic parameters - add glucose & sulfate\n",
    "FP_min_med = ['EX_glc_D(e)','EX_ca2(e)','EX_cobalt2(e)','EX_cl(e)','EX_cu2(e)','EX_fe2(e)',\n",
    "                 'EX_fe3(e)','EX_fol(e)','EX_glymet(e)','EX_hxan(e)','EX_k(e)','EX_lys_L(e)','EX_mg2(e)',\n",
    "                 'EX_mn2(e)', 'EX_nac(e)', 'EX_pi(e)', 'EX_pnto_R(e)', 'EX_pydx(e)', 'EX_ribflv(e)', 'EX_thm(e)', \n",
    "                 'EX_trp_L(e)', 'EX_zn2(e)', 'EX_so4(e)','EX_alaasp(e)']\n",
    "\n",
    "# Define medium uptake flux bounds, limit glucose uptake\n",
    "FP_min_med_flux = [-10,-100,-100,-100,\n",
    "                    -100,-100,-100,-100,\n",
    "                    -100,-100,-100,-100,-100,\n",
    "                    -100,-100,-100,-100,-100, \n",
    "                    -100,-100,-100,-100,-100,-100]\n",
    "\n",
    "# Run FBA\n",
    "with FP_model as model:\n",
    "    # Turn off all uptake and allow all export\n",
    "    for ex in model.exchanges:\n",
    "        ex.lower_bound = 0\n",
    "        ex.upper_bound = 1000\n",
    "\n",
    "    # Add glucose minimal medium\n",
    "    for i in range(len(FP_min_med)):\n",
    "        model.exchanges.get_by_id(FP_min_med[i]).lower_bound = FP_min_med_flux[i]\n",
    "    \n",
    "    # Run flux balance analysis\n",
    "    # parsimonious\n",
    "    solution_knockout = cb.flux_analysis.parsimonious.pfba(model)\n",
    "    print(model.summary())"
   ]
  },
  {
   "cell_type": "markdown",
   "id": "42be337c-1290-4358-ba2b-02dd2c2d58b9",
   "metadata": {},
   "source": [
    "## Perform gene knockouts\n",
    "From the above data, we can see that butyrate is not being produced in the provided environment. Below, the code will run through all genes in the FP model and individually \"knock them out\". The butyrate exchange flux of each of these gene knockouts will be stored in an array. "
   ]
  },
  {
   "cell_type": "code",
   "execution_count": 8,
   "id": "b47e347e-9e02-43f6-98f8-afd58bbc5876",
   "metadata": {},
   "outputs": [],
   "source": [
    "# define butyrate exchange reaction\n",
    "butyrate_exchange_reaction = \"EX_but(e)\"\n",
    "\n",
    "# Store the butyrate exchange fluxes for each gene knockout\n",
    "fluxes = []\n",
    "gene_knockouts = []\n",
    "\n",
    "# Run FBA for no knockout \n",
    "with FP_model as model:\n",
    "    # Turn off all uptake and allow all export\n",
    "    for ex in model.exchanges:\n",
    "        ex.lower_bound = 0\n",
    "        ex.upper_bound = 1000\n",
    "\n",
    "    # Add glucose minimal medium\n",
    "    for i in range(len(FP_min_med)):\n",
    "        model.exchanges.get_by_id(FP_min_med[i]).lower_bound = FP_min_med_flux[i]\n",
    "        \n",
    "    # determine the butyrate exchange flux for the model without any knockouts\n",
    "    # Run FBA on the original model\n",
    "    # parsimonious\n",
    "    solution_no_knockouts = cb.flux_analysis.parsimonious.pfba(model)\n",
    "\n",
    "    # Get the butyrate exchange flux for the model with no knockouts\n",
    "    butyrate_flux_no_knockouts = solution_no_knockouts.fluxes.get(butyrate_exchange_reaction, 0)\n",
    "    fluxes.append(butyrate_flux_no_knockouts)\n",
    "    gene_knockouts.append('No Knockout')  # Label for no knockout\n",
    "    \n",
    "# Iterate over each gene in the model\n",
    "for gene in model.genes:\n",
    "    with FP_model as model:\n",
    "        # Add minimal medium\n",
    "        # Turn off all uptake and allow all export\n",
    "        for ex in model.exchanges:\n",
    "            ex.lower_bound = 0\n",
    "            ex.upper_bound = 1000\n",
    "    \n",
    "        # Add glucose minimal medium\n",
    "        for i in range(len(FP_min_med)):\n",
    "            model.exchanges.get_by_id(FP_min_med[i]).lower_bound = FP_min_med_flux[i]\n",
    "            \n",
    "        for reaction in gene.reactions:\n",
    "            # Knock out the reaction by setting flux bounds to zero\n",
    "            reaction.bounds = (0, 0)\n",
    "    \n",
    "        # Run FBA for the knockout model\n",
    "        # parsimonious\n",
    "        solution_knockout = cb.flux_analysis.parsimonious.pfba(model)\n",
    "    \n",
    "        # Get the butyrate exchange flux for this knockout\n",
    "        butyrate_flux_knockout = solution_knockout.fluxes.get(butyrate_exchange_reaction, 0)\n",
    "        fluxes.append(butyrate_flux_knockout)\n",
    "        gene_knockouts.append(gene.id)\n",
    "    "
   ]
  },
  {
   "cell_type": "markdown",
   "id": "8897683b-7460-46cf-97d0-2caf6ecacc0d",
   "metadata": {},
   "source": [
    "## Determine Gene Knockout w/ Lowest Butyrate Exchange Flux\n",
    "The Butyrate flux production calculated above from different gene knockouts will be analyzed below in a histogram to visualize which gene knockout is most important in butyrate exchange flux. The no knockout model is included in the histogram as well. "
   ]
  },
  {
   "cell_type": "code",
   "execution_count": 11,
   "id": "538c85cd-66d8-4781-af23-6cb483c430b2",
   "metadata": {},
   "outputs": [
    {
     "data": {
      "image/png": "[encoded data removed]",
      "text/plain": [
       "<Figure size 1000x600 with 1 Axes>"
      ]
     },
     "metadata": {},
     "output_type": "display_data"
    }
   ],
   "source": [
    "# Sort the results to find the top 10 knockouts with the lowest butyrate flux\n",
    "fluxes_sorted_indices = sorted(range(len(fluxes)), key=lambda i: fluxes[i], reverse=True) #highest\n",
    "\n",
    "# Add the \"No Knockout\" entry back to the top 10 list\n",
    "top_10_indices = fluxes_sorted_indices[:6]\n",
    "\n",
    "# Prepare the data for the bar chart\n",
    "top_10_genes = [gene_knockouts[i] for i in top_10_indices]  # Include \"No Knockout\" as well\n",
    "top_10_fluxes = [fluxes[i] for i in top_10_indices]\n",
    "\n",
    "# Plot histogram of the top 10 knockouts including \"No Knockout\"\n",
    "plt.figure(figsize=(10, 6))  # Optional: Adjust the figure size\n",
    "plt.bar(top_10_genes, top_10_fluxes)\n",
    "plt.ylabel('Butyrate Exchange Flux')\n",
    "plt.xlabel('Gene Knockout')\n",
    "plt.title('Top Gene Knockouts with the Highest Butyrate Flux')\n",
    "plt.xticks(rotation=90)  # Rotate the x-axis labels for better readability\n",
    "plt.tight_layout()  # Adjust layout to prevent overlap\n",
    "plt.show()"
   ]
  }
 ],
 "metadata": {
  "kernelspec": {
   "display_name": "Python 3 (ipykernel)",
   "language": "python",
   "name": "python3"
  },
  "language_info": {
   "codemirror_mode": {
    "name": "ipython",
    "version": 3
   },
   "file_extension": ".py",
   "mimetype": "text/x-python",
   "name": "python",
   "nbconvert_exporter": "python",
   "pygments_lexer": "ipython3",
   "version": "3.10.14"
  }
 },
 "nbformat": 4,
 "nbformat_minor": 5
}
